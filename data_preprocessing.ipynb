{
 "cells": [
  {
   "cell_type": "code",
   "execution_count": 31,
   "metadata": {},
   "outputs": [
    {
     "name": "stdout",
     "output_type": "stream",
     "text": [
      "The autoreload extension is already loaded. To reload it, use:\n",
      "  %reload_ext autoreload\n"
     ]
    }
   ],
   "source": [
    "from data_preprocessing import main\n",
    "from argparse import Namespace\n",
    "\n",
    "%load_ext autoreload\n",
    "%autoreload 2"
   ]
  },
  {
   "cell_type": "code",
   "execution_count": 32,
   "metadata": {},
   "outputs": [],
   "source": [
    "args = Namespace(\n",
    "    dataset='small',\n",
    "    download=False,\n",
    "    build_ast=False,\n",
    "    convert=True,\n",
    "    upload=False,\n",
    "    n_jobs=-1,\n",
    "    batch_size=10,\n",
    ")"
   ]
  },
  {
   "cell_type": "code",
   "execution_count": 40,
   "metadata": {},
   "outputs": [
    {
     "name": "stdout",
     "output_type": "stream",
     "text": [
      "Convert asts for test data...\n"
     ]
    },
    {
     "data": {
      "application/vnd.jupyter.widget-view+json": {
       "model_id": "f7338477b2934c3fb75783550121f189",
       "version_major": 2,
       "version_minor": 0
      },
      "text/plain": [
       "HBox(children=(IntProgress(value=0, max=5852), HTML(value='')))"
      ]
     },
     "metadata": {},
     "output_type": "display_data"
    },
    {
     "name": "stdout",
     "output_type": "stream",
     "text": [
      "10\n",
      "10\n",
      "10\n",
      "10\n"
     ]
    },
    {
     "ename": "TypeError",
     "evalue": "can only concatenate str (not \"ParseException\") to str",
     "output_type": "error",
     "traceback": [
      "\u001b[0;31m---------------------------------------------------------------------------\u001b[0m",
      "\u001b[0;31mRemoteTraceback\u001b[0m                           Traceback (most recent call last)",
      "\u001b[0;31mRemoteTraceback\u001b[0m: \n\"\"\"\nTraceback (most recent call last):\n  File \"/home/spirin/anaconda3/envs/treeLSTM/lib/python3.7/site-packages/dot_parser.py\", line 548, in parse_dot_data\n    tokens = graphparser.parseString(s)\n  File \"/home/spirin/anaconda3/envs/treeLSTM/lib/python3.7/site-packages/pyparsing.py\", line 1939, in parseString\n    raise exc\n  File \"/home/spirin/anaconda3/envs/treeLSTM/lib/python3.7/site-packages/pyparsing.py\", line 1929, in parseString\n    loc, tokens = self._parse(instring, 0)\n  File \"/home/spirin/anaconda3/envs/treeLSTM/lib/python3.7/site-packages/pyparsing.py\", line 1830, in _parseCache\n    value = self._parseNoCache(instring, loc, doActions, callPreParse)\n  File \"/home/spirin/anaconda3/envs/treeLSTM/lib/python3.7/site-packages/pyparsing.py\", line 1669, in _parseNoCache\n    loc, tokens = self.parseImpl(instring, preloc, doActions)\n  File \"/home/spirin/anaconda3/envs/treeLSTM/lib/python3.7/site-packages/pyparsing.py\", line 4665, in parseImpl\n    loc, tokens = self_expr_parse(instring, loc, doActions, callPreParse=False)\n  File \"/home/spirin/anaconda3/envs/treeLSTM/lib/python3.7/site-packages/pyparsing.py\", line 1830, in _parseCache\n    value = self._parseNoCache(instring, loc, doActions, callPreParse)\n  File \"/home/spirin/anaconda3/envs/treeLSTM/lib/python3.7/site-packages/pyparsing.py\", line 1669, in _parseNoCache\n    loc, tokens = self.parseImpl(instring, preloc, doActions)\n  File \"/home/spirin/anaconda3/envs/treeLSTM/lib/python3.7/site-packages/pyparsing.py\", line 4037, in parseImpl\n    loc, exprtokens = e._parse(instring, loc, doActions)\n  File \"/home/spirin/anaconda3/envs/treeLSTM/lib/python3.7/site-packages/pyparsing.py\", line 1830, in _parseCache\n    value = self._parseNoCache(instring, loc, doActions, callPreParse)\n  File \"/home/spirin/anaconda3/envs/treeLSTM/lib/python3.7/site-packages/pyparsing.py\", line 1669, in _parseNoCache\n    loc, tokens = self.parseImpl(instring, preloc, doActions)\n  File \"/home/spirin/anaconda3/envs/treeLSTM/lib/python3.7/site-packages/pyparsing.py\", line 4430, in parseImpl\n    return self.expr._parse(instring, loc, doActions, callPreParse=False)\n  File \"/home/spirin/anaconda3/envs/treeLSTM/lib/python3.7/site-packages/pyparsing.py\", line 1830, in _parseCache\n    value = self._parseNoCache(instring, loc, doActions, callPreParse)\n  File \"/home/spirin/anaconda3/envs/treeLSTM/lib/python3.7/site-packages/pyparsing.py\", line 1669, in _parseNoCache\n    loc, tokens = self.parseImpl(instring, preloc, doActions)\n  File \"/home/spirin/anaconda3/envs/treeLSTM/lib/python3.7/site-packages/pyparsing.py\", line 4020, in parseImpl\n    loc, resultlist = self.exprs[0]._parse(instring, loc, doActions, callPreParse=False)\n  File \"/home/spirin/anaconda3/envs/treeLSTM/lib/python3.7/site-packages/pyparsing.py\", line 1830, in _parseCache\n    value = self._parseNoCache(instring, loc, doActions, callPreParse)\n  File \"/home/spirin/anaconda3/envs/treeLSTM/lib/python3.7/site-packages/pyparsing.py\", line 1673, in _parseNoCache\n    loc, tokens = self.parseImpl(instring, preloc, doActions)\n  File \"/home/spirin/anaconda3/envs/treeLSTM/lib/python3.7/site-packages/pyparsing.py\", line 4430, in parseImpl\n    return self.expr._parse(instring, loc, doActions, callPreParse=False)\n  File \"/home/spirin/anaconda3/envs/treeLSTM/lib/python3.7/site-packages/pyparsing.py\", line 1830, in _parseCache\n    value = self._parseNoCache(instring, loc, doActions, callPreParse)\n  File \"/home/spirin/anaconda3/envs/treeLSTM/lib/python3.7/site-packages/pyparsing.py\", line 1673, in _parseNoCache\n    loc, tokens = self.parseImpl(instring, preloc, doActions)\n  File \"/home/spirin/anaconda3/envs/treeLSTM/lib/python3.7/site-packages/pyparsing.py\", line 2877, in parseImpl\n    raise ParseException(instring, loc, self.errmsg, self)\npyparsing.ParseException: Expected \"{\", found '$'  (at char 6), (line:1, col:7)\n\nDuring handling of the above exception, another exception occurred:\n\nTraceback (most recent call last):\n  File \"/home/spirin/anaconda3/envs/treeLSTM/lib/python3.7/multiprocessing/pool.py\", line 121, in worker\n    result = (True, func(*args, **kwds))\n  File \"/home/spirin/anaconda3/envs/treeLSTM/lib/python3.7/multiprocessing/pool.py\", line 47, in starmapstar\n    return list(itertools.starmap(args[0], args[1]))\n  File \"/home/spirin/Documents/treeLSTM/data_preprocessing.py\", line 103, in convert_ast\n    g_nx = read_dot(ast_path)\n  File \"</home/spirin/anaconda3/envs/treeLSTM/lib/python3.7/site-packages/decorator.py:decorator-gen-801>\", line 2, in read_dot\n  File \"/home/spirin/anaconda3/envs/treeLSTM/lib/python3.7/site-packages/networkx/utils/decorators.py\", line 240, in _open_file\n    result = func_to_be_decorated(*new_args, **kwargs)\n  File \"/home/spirin/anaconda3/envs/treeLSTM/lib/python3.7/site-packages/networkx/drawing/nx_pydot.py\", line 78, in read_dot\n    P_list = pydot.graph_from_dot_data(data)\n  File \"/home/spirin/anaconda3/envs/treeLSTM/lib/python3.7/site-packages/pydot.py\", line 282, in graph_from_dot_data\n    return dot_parser.parse_dot_data(s)\n  File \"/home/spirin/anaconda3/envs/treeLSTM/lib/python3.7/site-packages/dot_parser.py\", line 554, in parse_dot_data\n    err)\nTypeError: can only concatenate str (not \"ParseException\") to str\n\"\"\"",
      "\nThe above exception was the direct cause of the following exception:\n",
      "\u001b[0;31mTypeError\u001b[0m                                 Traceback (most recent call last)",
      "\u001b[0;32m<ipython-input-40-b3f47c9a9b7f>\u001b[0m in \u001b[0;36m<module>\u001b[0;34m\u001b[0m\n\u001b[0;32m----> 1\u001b[0;31m \u001b[0mmain\u001b[0m\u001b[0;34m(\u001b[0m\u001b[0margs\u001b[0m\u001b[0;34m)\u001b[0m\u001b[0;34m\u001b[0m\u001b[0;34m\u001b[0m\u001b[0m\n\u001b[0m",
      "\u001b[0;32m~/Documents/treeLSTM/data_preprocessing.py\u001b[0m in \u001b[0;36mmain\u001b[0;34m(args)\u001b[0m\n\u001b[1;32m    230\u001b[0m             holdout_preprocessed_paths[holdout] = convert_holdout(\n\u001b[1;32m    231\u001b[0m                 \u001b[0mdata_path\u001b[0m\u001b[0;34m,\u001b[0m \u001b[0mholdout\u001b[0m\u001b[0;34m,\u001b[0m \u001b[0mtoken_to_id\u001b[0m\u001b[0;34m,\u001b[0m \u001b[0mtype_to_id\u001b[0m\u001b[0;34m,\u001b[0m \u001b[0margs\u001b[0m\u001b[0;34m.\u001b[0m\u001b[0mn_jobs\u001b[0m\u001b[0;34m,\u001b[0m \u001b[0margs\u001b[0m\u001b[0;34m.\u001b[0m\u001b[0mbatch_size\u001b[0m\u001b[0;34m\u001b[0m\u001b[0;34m\u001b[0m\u001b[0m\n\u001b[0;32m--> 232\u001b[0;31m             )\n\u001b[0m\u001b[1;32m    233\u001b[0m     \u001b[0;32melse\u001b[0m\u001b[0;34m:\u001b[0m\u001b[0;34m\u001b[0m\u001b[0;34m\u001b[0m\u001b[0m\n\u001b[1;32m    234\u001b[0m         holdout_preprocessed_paths = {\n",
      "\u001b[0;32m~/Documents/treeLSTM/data_preprocessing.py\u001b[0m in \u001b[0;36mconvert_holdout\u001b[0;34m(data_path, holdout_name, token_to_id, type_to_id, n_jobs, batch_size)\u001b[0m\n\u001b[1;32m    148\u001b[0m         \u001b[0mcurrent_description\u001b[0m\u001b[0;34m[\u001b[0m\u001b[0;34m'token_id'\u001b[0m\u001b[0;34m]\u001b[0m \u001b[0;34m=\u001b[0m \u001b[0mcurrent_description\u001b[0m\u001b[0;34m[\u001b[0m\u001b[0;34m'token'\u001b[0m\u001b[0;34m]\u001b[0m\u001b[0;34m.\u001b[0m\u001b[0mapply\u001b[0m\u001b[0;34m(\u001b[0m\u001b[0;32mlambda\u001b[0m \u001b[0mtoken\u001b[0m\u001b[0;34m:\u001b[0m \u001b[0mtoken_to_id\u001b[0m\u001b[0;34m.\u001b[0m\u001b[0mget\u001b[0m\u001b[0;34m(\u001b[0m\u001b[0mtoken\u001b[0m\u001b[0;34m,\u001b[0m \u001b[0;36m1\u001b[0m\u001b[0;34m)\u001b[0m\u001b[0;34m)\u001b[0m\u001b[0;34m\u001b[0m\u001b[0;34m\u001b[0m\u001b[0m\n\u001b[1;32m    149\u001b[0m         \u001b[0mcurrent_description\u001b[0m\u001b[0;34m[\u001b[0m\u001b[0;34m'type_id'\u001b[0m\u001b[0;34m]\u001b[0m \u001b[0;34m=\u001b[0m \u001b[0mcurrent_description\u001b[0m\u001b[0;34m[\u001b[0m\u001b[0;34m'type'\u001b[0m\u001b[0;34m]\u001b[0m\u001b[0;34m.\u001b[0m\u001b[0mapply\u001b[0m\u001b[0;34m(\u001b[0m\u001b[0;32mlambda\u001b[0m \u001b[0mtype_all\u001b[0m\u001b[0;34m:\u001b[0m \u001b[0mtype_to_id\u001b[0m\u001b[0;34m.\u001b[0m\u001b[0mget\u001b[0m\u001b[0;34m(\u001b[0m\u001b[0mtype\u001b[0m\u001b[0;34m,\u001b[0m \u001b[0;36m0\u001b[0m\u001b[0;34m)\u001b[0m\u001b[0;34m)\u001b[0m\u001b[0;34m\u001b[0m\u001b[0;34m\u001b[0m\u001b[0m\n\u001b[0;32m--> 150\u001b[0;31m         \u001b[0mbatch\u001b[0m \u001b[0;34m=\u001b[0m \u001b[0mpool\u001b[0m\u001b[0;34m.\u001b[0m\u001b[0mstarmap_async\u001b[0m\u001b[0;34m(\u001b[0m\u001b[0mconvert_ast\u001b[0m\u001b[0;34m,\u001b[0m \u001b[0;34m[\u001b[0m\u001b[0;34m(\u001b[0m\u001b[0mast\u001b[0m\u001b[0;34m,\u001b[0m \u001b[0mcurrent_description\u001b[0m\u001b[0;34m)\u001b[0m \u001b[0;32mfor\u001b[0m \u001b[0mast\u001b[0m \u001b[0;32min\u001b[0m \u001b[0mcurrent_asts\u001b[0m\u001b[0;34m]\u001b[0m\u001b[0;34m)\u001b[0m\u001b[0;34m.\u001b[0m\u001b[0mget\u001b[0m\u001b[0;34m(\u001b[0m\u001b[0;34m)\u001b[0m\u001b[0;34m\u001b[0m\u001b[0;34m\u001b[0m\u001b[0m\n\u001b[0m\u001b[1;32m    151\u001b[0m     \u001b[0mpool\u001b[0m\u001b[0;34m.\u001b[0m\u001b[0mclose\u001b[0m\u001b[0;34m(\u001b[0m\u001b[0;34m)\u001b[0m\u001b[0;34m\u001b[0m\u001b[0;34m\u001b[0m\u001b[0m\n\u001b[1;32m    152\u001b[0m     \u001b[0;32mreturn\u001b[0m \u001b[0moutput_holdout_path\u001b[0m\u001b[0;34m\u001b[0m\u001b[0;34m\u001b[0m\u001b[0m\n",
      "\u001b[0;32m~/anaconda3/envs/treeLSTM/lib/python3.7/multiprocessing/pool.py\u001b[0m in \u001b[0;36mget\u001b[0;34m(self, timeout)\u001b[0m\n\u001b[1;32m    655\u001b[0m             \u001b[0;32mreturn\u001b[0m \u001b[0mself\u001b[0m\u001b[0;34m.\u001b[0m\u001b[0m_value\u001b[0m\u001b[0;34m\u001b[0m\u001b[0;34m\u001b[0m\u001b[0m\n\u001b[1;32m    656\u001b[0m         \u001b[0;32melse\u001b[0m\u001b[0;34m:\u001b[0m\u001b[0;34m\u001b[0m\u001b[0;34m\u001b[0m\u001b[0m\n\u001b[0;32m--> 657\u001b[0;31m             \u001b[0;32mraise\u001b[0m \u001b[0mself\u001b[0m\u001b[0;34m.\u001b[0m\u001b[0m_value\u001b[0m\u001b[0;34m\u001b[0m\u001b[0;34m\u001b[0m\u001b[0m\n\u001b[0m\u001b[1;32m    658\u001b[0m \u001b[0;34m\u001b[0m\u001b[0m\n\u001b[1;32m    659\u001b[0m     \u001b[0;32mdef\u001b[0m \u001b[0m_set\u001b[0m\u001b[0;34m(\u001b[0m\u001b[0mself\u001b[0m\u001b[0;34m,\u001b[0m \u001b[0mi\u001b[0m\u001b[0;34m,\u001b[0m \u001b[0mobj\u001b[0m\u001b[0;34m)\u001b[0m\u001b[0;34m:\u001b[0m\u001b[0;34m\u001b[0m\u001b[0;34m\u001b[0m\u001b[0m\n",
      "\u001b[0;31mTypeError\u001b[0m: can only concatenate str (not \"ParseException\") to str"
     ]
    }
   ],
   "source": [
    "main(args)"
   ]
  },
  {
   "cell_type": "code",
   "execution_count": 10,
   "metadata": {
    "pycharm": {
     "is_executing": false,
     "name": "#%%\n"
    }
   },
   "outputs": [
    {
     "name": "stdout",
     "output_type": "stream",
     "text": [
      "The autoreload extension is already loaded. To reload it, use:\n",
      "  %reload_ext autoreload\n"
     ]
    }
   ],
   "source": [
    "from data_preprocessing import collect_ast_description\n",
    "from networkx.drawing.nx_pydot import read_dot"
   ]
  },
  {
   "cell_type": "code",
   "execution_count": 15,
   "metadata": {
    "pycharm": {
     "is_executing": false,
     "name": "#%%\n"
    }
   },
   "outputs": [
    {
     "data": {
      "text/plain": [
       "(9, 10)"
      ]
     },
     "execution_count": 15,
     "metadata": {},
     "output_type": "execute_result"
    }
   ],
   "source": [
    "ast_per_project = {'data/java-small/training_asts/cassandra/java': ['data/java-small/training_asts/cassandra/java/asts/ast_21508.dot'], 'data/java-small/training_asts/spring-framework/java': ['data/java-small/training_asts/spring-framework/java/asts/ast_296.dot'], 'data/java-small/training_asts/liferay-portal/java': ['data/java-small/training_asts/liferay-portal/java/asts/ast_55532.dot'], 'data/java-small/training_asts/hibernate-orm/java': [], 'data/java-small/training_asts/wildfly/java': ['data/java-small/training_asts/wildfly/java/asts/ast_2212.dot', 'data/java-small/training_asts/wildfly/java/asts/ast_8754.dot'], 'data/java-small/training_asts/elasticsearch/java': [], 'data/java-small/training_asts/gradle/java': ['data/java-small/training_asts/gradle/java/asts/ast_23208.dot', 'data/java-small/training_asts/gradle/java/asts/ast_16889.dot'], 'data/java-small/training_asts/presto/java': [], 'data/java-small/training_asts/intellij-community/java': ['data/java-small/training_asts/intellij-community/java/asts/ast_77555.dot', 'data/java-small/training_asts/intellij-community/java/asts/ast_104022.dot', 'data/java-small/training_asts/intellij-community/java/asts/ast_252898.dot']}\n",
    "projects = []\n",
    "asts = []\n",
    "for k, v in ast_per_project.items():\n",
    "    projects.append(k)\n",
    "    asts += v\n",
    "len(projects), len(asts)"
   ]
  },
  {
   "cell_type": "code",
   "execution_count": 21,
   "metadata": {
    "pycharm": {
     "is_executing": false,
     "name": "#%%\n"
    }
   },
   "outputs": [
    {
     "data": {
      "text/plain": [
       "808"
      ]
     },
     "execution_count": 21,
     "metadata": {},
     "output_type": "execute_result"
    }
   ],
   "source": [
    "num_v = 0\n",
    "for ast in asts:\n",
    "    g_nx = read_dot(ast)\n",
    "    num_v += len(g_nx.node)\n",
    "num_v"
   ]
  },
  {
   "cell_type": "code",
   "execution_count": 37,
   "metadata": {
    "pycharm": {
     "is_executing": false,
     "name": "#%%\n"
    }
   },
   "outputs": [],
   "source": [
    "desc = collect_ast_description(projects, asts)"
   ]
  },
  {
   "cell_type": "code",
   "execution_count": 39,
   "metadata": {},
   "outputs": [
    {
     "data": {
      "text/plain": [
       "0      True\n",
       "1      True\n",
       "2      True\n",
       "3      True\n",
       "4      True\n",
       "       ... \n",
       "803    True\n",
       "804    True\n",
       "805    True\n",
       "806    True\n",
       "807    True\n",
       "Name: dot_file, Length: 808, dtype: bool"
      ]
     },
     "execution_count": 39,
     "metadata": {},
     "output_type": "execute_result"
    }
   ],
   "source": [
    "desc['dot_file'] == 'data/java-small/training_asts/cassandra/java/asts/ast_21508.dot'"
   ]
  },
  {
   "cell_type": "code",
   "execution_count": null,
   "metadata": {},
   "outputs": [],
   "source": []
  }
 ],
 "metadata": {
  "kernelspec": {
   "display_name": "Python 3",
   "language": "python",
   "name": "python3"
  },
  "language_info": {
   "codemirror_mode": {
    "name": "ipython",
    "version": 3
   },
   "file_extension": ".py",
   "mimetype": "text/x-python",
   "name": "python",
   "nbconvert_exporter": "python",
   "pygments_lexer": "ipython3",
   "version": "3.7.4"
  },
  "pycharm": {
   "stem_cell": {
    "cell_type": "raw",
    "metadata": {
     "collapsed": false
    },
    "source": []
   }
  }
 },
 "nbformat": 4,
 "nbformat_minor": 2
}
